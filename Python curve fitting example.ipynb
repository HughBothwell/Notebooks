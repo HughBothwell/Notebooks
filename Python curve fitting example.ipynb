{
 "cells": [
  {
   "cell_type": "markdown",
   "id": "42a3860e",
   "metadata": {},
   "source": [
    "# Find next term in series\n",
    "\n",
    "$S_0 = 150$  \n",
    "$S_1 = 2977$  \n",
    "$S_2 = 12503$  \n",
    "$S_3 = x$\n",
    "\n",
    "Given three datapoints, we can only definitively solve for an equation in three unknowns;  \n",
    "if we assume the equation is polynomial, that makes it a quadratic ($y = ax^2 + bx + c$).\n",
    "\n",
    "Let's try curve-fitting that:"
   ]
  },
  {
   "cell_type": "code",
   "execution_count": 19,
   "id": "2fb226c0",
   "metadata": {},
   "outputs": [
    {
     "name": "stdout",
     "output_type": "stream",
     "text": [
      "[3349.5 -522.5  150. ]\n"
     ]
    }
   ],
   "source": [
    "# docs at https://docs.scipy.org/doc/scipy/reference/generated/scipy.optimize.curve_fit.html\n",
    "import numpy as np\n",
    "from scipy.optimize import curve_fit\n",
    "\n",
    "def fn(x, a, b, c):\n",
    "    \"\"\"\n",
    "    A quadratic equation\n",
    "    \"\"\"\n",
    "    return a * x ** 2 + b * x + c\n",
    "\n",
    "xs = [0, 1, 2]\n",
    "ys = [150, 2977, 12503]\n",
    "p0 = [1000, 100, 10]     # initial guess for a,b,c\n",
    "\n",
    "params = curve_fit(fn, xs, ys, p0=p0)[0]\n",
    "print(params)     # [349.5, -522.5, 150.0]"
   ]
  },
  {
   "cell_type": "markdown",
   "id": "0ded6c5e",
   "metadata": {},
   "source": [
    "So our resulting equation is $y = 349.5 x^2 - 522.5 x + 150$\n",
    "and we can then find our final answer,"
   ]
  },
  {
   "cell_type": "code",
   "execution_count": 20,
   "id": "45b34ddb",
   "metadata": {},
   "outputs": [
    {
     "name": "stdout",
     "output_type": "stream",
     "text": [
      "28728.0\n"
     ]
    }
   ],
   "source": [
    "x = fn(3, *params)\n",
    "print(x)"
   ]
  }
 ],
 "metadata": {
  "kernelspec": {
   "display_name": "Python 3 (ipykernel)",
   "language": "python",
   "name": "python3"
  },
  "language_info": {
   "codemirror_mode": {
    "name": "ipython",
    "version": 3
   },
   "file_extension": ".py",
   "mimetype": "text/x-python",
   "name": "python",
   "nbconvert_exporter": "python",
   "pygments_lexer": "ipython3",
   "version": "3.11.4"
  }
 },
 "nbformat": 4,
 "nbformat_minor": 5
}
