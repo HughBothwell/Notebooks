{
 "cells": [
  {
   "cell_type": "markdown",
   "id": "22f47025",
   "metadata": {},
   "source": [
    "# Solve combinatoric metaproblem\n",
    "\n",
    "Posted as https://twitter.com/Avi_Maths/status/1674605793109331968 :\n",
    "\n",
    "Consider the following statements:\n",
    "\n",
    "1. A is older than B\n",
    "2. C and D are of the same age\n",
    "3. E is the youngest\n",
    "4. F is younger than D\n",
    "5. F is older than A\n",
    "\n",
    "How many of the statements above are required to determine the oldest person or persons?\n",
    "\n",
    "a. Only two  \n",
    "b. Only three  \n",
    "c. Only four  \n",
    "d. All five  "
   ]
  },
  {
   "cell_type": "markdown",
   "id": "f6940321",
   "metadata": {},
   "source": [
    "***\n",
    "First we need to define all canonical orderings:"
   ]
  },
  {
   "cell_type": "code",
   "execution_count": 13,
   "id": "e353c5cf",
   "metadata": {},
   "outputs": [],
   "source": [
    "from itertools import combinations as comb\n",
    "from itertools import permutations as perm\n",
    "from itertools import product as prod\n",
    "\n",
    "# Given six items A B C D E F\n",
    "# generate all unique orderings where some items may be equal,\n",
    "# eg  C > (D=E) > F > (A=B)\n",
    "# then encode each as the ordering-indices,\n",
    "# eg (3, 3, 0, 1, 1, 2)\n",
    "\n",
    "all_orderings = set()\n",
    "# working array - reuse it to avoid memory churn\n",
    "ordering = [0] * 6\n",
    "\n",
    "# Generate the item in each position\n",
    "for u,v,w,x,y,z in perm(range(6)):\n",
    "    # Generate comparatives,\n",
    "    #   0 = next item is equal to current item\n",
    "    #   1 = next item is less than current item\n",
    "    # N.B. this will produce some duplicates, eg A=B and B=A,\n",
    "    #   but it will be taken care of by the position-encoding\n",
    "    for uv,vw,wx,xy,yz in prod([0, 1], repeat=5):\n",
    "        pos = 0\n",
    "        ordering[u] = pos\n",
    "        pos += uv\n",
    "        ordering[v] = pos\n",
    "        pos += vw\n",
    "        ordering[w] = pos\n",
    "        pos += wx\n",
    "        ordering[x] = pos\n",
    "        pos += xy\n",
    "        ordering[y] = pos\n",
    "        pos += yz\n",
    "        ordering[z] = pos\n",
    "        # now save it\n",
    "        all_orderings.add(tuple(ordering))"
   ]
  },
  {
   "cell_type": "markdown",
   "id": "b88162a6",
   "metadata": {},
   "source": [
    "This generates 4,683 unique orderings such as\n",
    "\n",
    "    (2, 0, 3, 1, 4, 1)  ->  B > (D=F) > A > C > E  \n",
    "    (1, 4, 0, 0, 2, 3)  ->  (C=D) > A > E > F > B  \n",
    "    (0, 0, 2, 1, 2, 3)  ->  (A=B) > D > (C=E) > F  \n",
    "\n",
    "***\n",
    "Second, we define our rule-set."
   ]
  },
  {
   "cell_type": "code",
   "execution_count": 14,
   "id": "1f494580",
   "metadata": {},
   "outputs": [],
   "source": [
    "def rule_1(order):\n",
    "    # A is older than B\n",
    "    return order[0] < order[1]\n",
    "\n",
    "def rule_2(order):\n",
    "    # C is the same age as D\n",
    "    return order[2] == order[3]\n",
    "\n",
    "def rule_3(order):\n",
    "    # E is the youngest\n",
    "    e_group = order[4]\n",
    "    return all(i == 4 or ch_group < e_group for i, ch_group in enumerate(order))\n",
    "\n",
    "def rule_4(order):\n",
    "    # D is older than F\n",
    "    return order[3] < order[5]\n",
    "\n",
    "def rule_5(order):\n",
    "    # F is older than A\n",
    "    return order[5] < order[0]"
   ]
  },
  {
   "cell_type": "markdown",
   "id": "636ee069",
   "metadata": {},
   "source": [
    "***\n",
    "For efficiency, we will only run each rule against each ordering once and cache the results.\n",
    "\n",
    "We will also get and cache the oldest person/persons for each ordering."
   ]
  },
  {
   "cell_type": "code",
   "execution_count": 15,
   "id": "d158aede",
   "metadata": {},
   "outputs": [],
   "source": [
    "def get_oldest(order):\n",
    "    return \"\".join(\n",
    "        ch\n",
    "        for ch, grp in zip(\"ABCDEF\", order)\n",
    "        if grp == 0\n",
    "    )\n",
    "\n",
    "results = [\n",
    "    (order, rule_1(order), rule_2(order), rule_3(order), rule_4(order), rule_5(order), get_oldest(order))\n",
    "    for order in all_orderings\n",
    "]"
   ]
  },
  {
   "cell_type": "markdown",
   "id": "573fa7eb",
   "metadata": {},
   "source": [
    "This generates 4,683 results like\n",
    "\n",
    "    ((2, 0, 3, 1, 4, 1), False, False, True, False, True, 'B')  \n",
    "    ((1, 4, 0, 0, 2, 3), True, True, False, True, False, 'CD')  \n",
    "    ((0, 0, 2, 1, 2, 3), False, False, False, True, False, 'AB')  \n",
    "\n",
    "***\n",
    "Now let's find out how many rules are actually needed:"
   ]
  },
  {
   "cell_type": "code",
   "execution_count": 16,
   "id": "5fbb0991",
   "metadata": {},
   "outputs": [
    {
     "name": "stdout",
     "output_type": "stream",
     "text": [
      "Successful rule-set:  (1, 2, 3, 4, 5) finds 1 possible orderings where oldest is {'CD'}\n"
     ]
    }
   ],
   "source": [
    "# How many rules to try?\n",
    "for num_rules in range(1, 6):    # 1 .. 5\n",
    "    # Pick that many rules\n",
    "    for which_rules in comb(range(1, 6), num_rules):\n",
    "        # Collect all orderings that pass that rule-set\n",
    "        orders = []\n",
    "        oldest = set()\n",
    "        failed = False\n",
    "        for order in results:\n",
    "            if all(order[rule] for rule in which_rules):\n",
    "                orders.append(order)\n",
    "                oldest.add(order[6])\n",
    "                if len(oldest) > 1:\n",
    "                    # not a unique result!!\n",
    "                    failed = True\n",
    "                    break\n",
    "        # did we find a solution?\n",
    "        if not failed:\n",
    "            print(\"Successful rule-set: \", which_rules, \"finds\", len(orders), \"possible orderings where oldest is\", oldest)\n"
   ]
  },
  {
   "cell_type": "code",
   "execution_count": null,
   "id": "a774a1fb",
   "metadata": {},
   "outputs": [],
   "source": []
  }
 ],
 "metadata": {
  "kernelspec": {
   "display_name": "Python 3 (ipykernel)",
   "language": "python",
   "name": "python3"
  },
  "language_info": {
   "codemirror_mode": {
    "name": "ipython",
    "version": 3
   },
   "file_extension": ".py",
   "mimetype": "text/x-python",
   "name": "python",
   "nbconvert_exporter": "python",
   "pygments_lexer": "ipython3",
   "version": "3.11.3"
  }
 },
 "nbformat": 4,
 "nbformat_minor": 5
}
